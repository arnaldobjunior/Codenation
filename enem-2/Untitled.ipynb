{
 "cells": [
  {
   "cell_type": "code",
   "execution_count": 59,
   "metadata": {},
   "outputs": [],
   "source": [
    "import pandas as pd\n",
    "import numpy as np\n"
   ]
  },
  {
   "cell_type": "code",
   "execution_count": 105,
   "metadata": {},
   "outputs": [],
   "source": [
    "test = pd.read_csv(\"test.csv\")\n",
    "train = pd.read_csv(\"train.csv\")"
   ]
  },
  {
   "cell_type": "code",
   "execution_count": 71,
   "metadata": {
    "scrolled": true
   },
   "outputs": [
    {
     "data": {
      "text/plain": [
       "['Unnamed: 0',\n",
       " 'NU_INSCRICAO',\n",
       " 'NU_ANO',\n",
       " 'CO_MUNICIPIO_RESIDENCIA',\n",
       " 'NO_MUNICIPIO_RESIDENCIA',\n",
       " 'CO_UF_RESIDENCIA',\n",
       " 'SG_UF_RESIDENCIA',\n",
       " 'NU_IDADE',\n",
       " 'TP_SEXO',\n",
       " 'TP_ESTADO_CIVIL',\n",
       " 'TP_COR_RACA',\n",
       " 'TP_NACIONALIDADE',\n",
       " 'CO_MUNICIPIO_NASCIMENTO',\n",
       " 'NO_MUNICIPIO_NASCIMENTO',\n",
       " 'CO_UF_NASCIMENTO',\n",
       " 'SG_UF_NASCIMENTO',\n",
       " 'TP_ST_CONCLUSAO',\n",
       " 'TP_ANO_CONCLUIU',\n",
       " 'TP_ESCOLA',\n",
       " 'TP_ENSINO',\n",
       " 'IN_TREINEIRO',\n",
       " 'CO_ESCOLA',\n",
       " 'CO_MUNICIPIO_ESC',\n",
       " 'NO_MUNICIPIO_ESC',\n",
       " 'CO_UF_ESC',\n",
       " 'SG_UF_ESC',\n",
       " 'TP_DEPENDENCIA_ADM_ESC',\n",
       " 'TP_LOCALIZACAO_ESC',\n",
       " 'TP_SIT_FUNC_ESC',\n",
       " 'IN_BAIXA_VISAO',\n",
       " 'IN_CEGUEIRA',\n",
       " 'IN_SURDEZ',\n",
       " 'IN_DEFICIENCIA_AUDITIVA',\n",
       " 'IN_SURDO_CEGUEIRA',\n",
       " 'IN_DEFICIENCIA_FISICA',\n",
       " 'IN_DEFICIENCIA_MENTAL',\n",
       " 'IN_DEFICIT_ATENCAO',\n",
       " 'IN_DISLEXIA',\n",
       " 'IN_DISCALCULIA',\n",
       " 'IN_AUTISMO',\n",
       " 'IN_VISAO_MONOCULAR',\n",
       " 'IN_OUTRA_DEF',\n",
       " 'IN_SABATISTA',\n",
       " 'IN_GESTANTE',\n",
       " 'IN_LACTANTE',\n",
       " 'IN_IDOSO',\n",
       " 'IN_ESTUDA_CLASSE_HOSPITALAR',\n",
       " 'IN_SEM_RECURSO',\n",
       " 'IN_BRAILLE',\n",
       " 'IN_AMPLIADA_24',\n",
       " 'IN_AMPLIADA_18',\n",
       " 'IN_LEDOR',\n",
       " 'IN_ACESSO',\n",
       " 'IN_TRANSCRICAO',\n",
       " 'IN_LIBRAS',\n",
       " 'IN_LEITURA_LABIAL',\n",
       " 'IN_MESA_CADEIRA_RODAS',\n",
       " 'IN_MESA_CADEIRA_SEPARADA',\n",
       " 'IN_APOIO_PERNA',\n",
       " 'IN_GUIA_INTERPRETE',\n",
       " 'IN_MACA',\n",
       " 'IN_COMPUTADOR',\n",
       " 'IN_CADEIRA_ESPECIAL',\n",
       " 'IN_CADEIRA_CANHOTO',\n",
       " 'IN_CADEIRA_ACOLCHOADA',\n",
       " 'IN_PROVA_DEITADO',\n",
       " 'IN_MOBILIARIO_OBESO',\n",
       " 'IN_LAMINA_OVERLAY',\n",
       " 'IN_PROTETOR_AURICULAR',\n",
       " 'IN_MEDIDOR_GLICOSE',\n",
       " 'IN_MAQUINA_BRAILE',\n",
       " 'IN_SOROBAN',\n",
       " 'IN_MARCA_PASSO',\n",
       " 'IN_SONDA',\n",
       " 'IN_MEDICAMENTOS',\n",
       " 'IN_SALA_INDIVIDUAL',\n",
       " 'IN_SALA_ESPECIAL',\n",
       " 'IN_SALA_ACOMPANHANTE',\n",
       " 'IN_MOBILIARIO_ESPECIFICO',\n",
       " 'IN_MATERIAL_ESPECIFICO',\n",
       " 'IN_NOME_SOCIAL',\n",
       " 'IN_CERTIFICADO',\n",
       " 'NO_ENTIDADE_CERTIFICACAO',\n",
       " 'CO_UF_ENTIDADE_CERTIFICACAO',\n",
       " 'SG_UF_ENTIDADE_CERTIFICACAO',\n",
       " 'CO_MUNICIPIO_PROVA',\n",
       " 'NO_MUNICIPIO_PROVA',\n",
       " 'CO_UF_PROVA',\n",
       " 'SG_UF_PROVA',\n",
       " 'TP_PRESENCA_CN',\n",
       " 'TP_PRESENCA_CH',\n",
       " 'TP_PRESENCA_LC',\n",
       " 'TP_PRESENCA_MT',\n",
       " 'CO_PROVA_CN',\n",
       " 'CO_PROVA_CH',\n",
       " 'CO_PROVA_LC',\n",
       " 'CO_PROVA_MT',\n",
       " 'NU_NOTA_CN',\n",
       " 'NU_NOTA_CH',\n",
       " 'NU_NOTA_LC',\n",
       " 'NU_NOTA_MT',\n",
       " 'TX_RESPOSTAS_CN',\n",
       " 'TX_RESPOSTAS_CH',\n",
       " 'TX_RESPOSTAS_LC',\n",
       " 'TX_RESPOSTAS_MT',\n",
       " 'TP_LINGUA',\n",
       " 'TX_GABARITO_CN',\n",
       " 'TX_GABARITO_CH',\n",
       " 'TX_GABARITO_LC',\n",
       " 'TX_GABARITO_MT',\n",
       " 'TP_STATUS_REDACAO',\n",
       " 'NU_NOTA_COMP1',\n",
       " 'NU_NOTA_COMP2',\n",
       " 'NU_NOTA_COMP3',\n",
       " 'NU_NOTA_COMP4',\n",
       " 'NU_NOTA_COMP5',\n",
       " 'NU_NOTA_REDACAO',\n",
       " 'Q001',\n",
       " 'Q002',\n",
       " 'Q003',\n",
       " 'Q004',\n",
       " 'Q005',\n",
       " 'Q006',\n",
       " 'Q007',\n",
       " 'Q008',\n",
       " 'Q009',\n",
       " 'Q010',\n",
       " 'Q011',\n",
       " 'Q012',\n",
       " 'Q013',\n",
       " 'Q014',\n",
       " 'Q015',\n",
       " 'Q016',\n",
       " 'Q017',\n",
       " 'Q018',\n",
       " 'Q019',\n",
       " 'Q020',\n",
       " 'Q021',\n",
       " 'Q022',\n",
       " 'Q023',\n",
       " 'Q024',\n",
       " 'Q025',\n",
       " 'Q026',\n",
       " 'Q027',\n",
       " 'Q028',\n",
       " 'Q029',\n",
       " 'Q030',\n",
       " 'Q031',\n",
       " 'Q032',\n",
       " 'Q033',\n",
       " 'Q034',\n",
       " 'Q035',\n",
       " 'Q036',\n",
       " 'Q037',\n",
       " 'Q038',\n",
       " 'Q039',\n",
       " 'Q040',\n",
       " 'Q041',\n",
       " 'Q042',\n",
       " 'Q043',\n",
       " 'Q044',\n",
       " 'Q045',\n",
       " 'Q046',\n",
       " 'Q047',\n",
       " 'Q048',\n",
       " 'Q049',\n",
       " 'Q050']"
      ]
     },
     "execution_count": 71,
     "metadata": {},
     "output_type": "execute_result"
    }
   ],
   "source": [
    "train.head().columns.tolist()"
   ]
  },
  {
   "cell_type": "code",
   "execution_count": 72,
   "metadata": {
    "scrolled": true
   },
   "outputs": [
    {
     "data": {
      "text/html": [
       "<div>\n",
       "<style scoped>\n",
       "    .dataframe tbody tr th:only-of-type {\n",
       "        vertical-align: middle;\n",
       "    }\n",
       "\n",
       "    .dataframe tbody tr th {\n",
       "        vertical-align: top;\n",
       "    }\n",
       "\n",
       "    .dataframe thead th {\n",
       "        text-align: right;\n",
       "    }\n",
       "</style>\n",
       "<table border=\"1\" class=\"dataframe\">\n",
       "  <thead>\n",
       "    <tr style=\"text-align: right;\">\n",
       "      <th></th>\n",
       "      <th>NU_INSCRICAO</th>\n",
       "      <th>NU_NOTA_CN</th>\n",
       "      <th>NU_NOTA_CH</th>\n",
       "      <th>NU_NOTA_LC</th>\n",
       "      <th>NU_NOTA_MT</th>\n",
       "      <th>NU_NOTA_REDACAO</th>\n",
       "      <th>TP_PRESENCA_MT</th>\n",
       "      <th>TP_PRESENCA_CH</th>\n",
       "      <th>TP_PRESENCA_LC</th>\n",
       "      <th>TP_PRESENCA_CN</th>\n",
       "    </tr>\n",
       "  </thead>\n",
       "  <tbody>\n",
       "    <tr>\n",
       "      <th>0</th>\n",
       "      <td>ed50e8aaa58e7a806c337585efee9ca41f1eb1ad</td>\n",
       "      <td>436.3</td>\n",
       "      <td>495.4</td>\n",
       "      <td>581.2</td>\n",
       "      <td>399.4</td>\n",
       "      <td>520.0</td>\n",
       "      <td>1</td>\n",
       "      <td>1</td>\n",
       "      <td>1</td>\n",
       "      <td>1</td>\n",
       "    </tr>\n",
       "    <tr>\n",
       "      <th>1</th>\n",
       "      <td>2c3acac4b33ec2b195d77e7c04a2d75727fad723</td>\n",
       "      <td>474.5</td>\n",
       "      <td>544.1</td>\n",
       "      <td>599.0</td>\n",
       "      <td>459.8</td>\n",
       "      <td>580.0</td>\n",
       "      <td>1</td>\n",
       "      <td>1</td>\n",
       "      <td>1</td>\n",
       "      <td>1</td>\n",
       "    </tr>\n",
       "    <tr>\n",
       "      <th>2</th>\n",
       "      <td>f4545f8ccb9ff5c8aad7d32951b3f251a26e6568</td>\n",
       "      <td>NaN</td>\n",
       "      <td>NaN</td>\n",
       "      <td>NaN</td>\n",
       "      <td>NaN</td>\n",
       "      <td>NaN</td>\n",
       "      <td>0</td>\n",
       "      <td>0</td>\n",
       "      <td>0</td>\n",
       "      <td>0</td>\n",
       "    </tr>\n",
       "    <tr>\n",
       "      <th>3</th>\n",
       "      <td>3d6ec248fef899c414e77f82d5c6d2bffbeaf7fe</td>\n",
       "      <td>NaN</td>\n",
       "      <td>NaN</td>\n",
       "      <td>NaN</td>\n",
       "      <td>NaN</td>\n",
       "      <td>NaN</td>\n",
       "      <td>0</td>\n",
       "      <td>0</td>\n",
       "      <td>0</td>\n",
       "      <td>0</td>\n",
       "    </tr>\n",
       "    <tr>\n",
       "      <th>4</th>\n",
       "      <td>bf896ac8d3ecadd6dba1dfbf50110afcbf5d3268</td>\n",
       "      <td>NaN</td>\n",
       "      <td>NaN</td>\n",
       "      <td>NaN</td>\n",
       "      <td>NaN</td>\n",
       "      <td>NaN</td>\n",
       "      <td>0</td>\n",
       "      <td>0</td>\n",
       "      <td>0</td>\n",
       "      <td>0</td>\n",
       "    </tr>\n",
       "  </tbody>\n",
       "</table>\n",
       "</div>"
      ],
      "text/plain": [
       "                               NU_INSCRICAO  NU_NOTA_CN  NU_NOTA_CH  \\\n",
       "0  ed50e8aaa58e7a806c337585efee9ca41f1eb1ad       436.3       495.4   \n",
       "1  2c3acac4b33ec2b195d77e7c04a2d75727fad723       474.5       544.1   \n",
       "2  f4545f8ccb9ff5c8aad7d32951b3f251a26e6568         NaN         NaN   \n",
       "3  3d6ec248fef899c414e77f82d5c6d2bffbeaf7fe         NaN         NaN   \n",
       "4  bf896ac8d3ecadd6dba1dfbf50110afcbf5d3268         NaN         NaN   \n",
       "\n",
       "   NU_NOTA_LC  NU_NOTA_MT  NU_NOTA_REDACAO  TP_PRESENCA_MT  TP_PRESENCA_CH  \\\n",
       "0       581.2       399.4            520.0               1               1   \n",
       "1       599.0       459.8            580.0               1               1   \n",
       "2         NaN         NaN              NaN               0               0   \n",
       "3         NaN         NaN              NaN               0               0   \n",
       "4         NaN         NaN              NaN               0               0   \n",
       "\n",
       "   TP_PRESENCA_LC  TP_PRESENCA_CN  \n",
       "0               1               1  \n",
       "1               1               1  \n",
       "2               0               0  \n",
       "3               0               0  \n",
       "4               0               0  "
      ]
     },
     "execution_count": 72,
     "metadata": {},
     "output_type": "execute_result"
    }
   ],
   "source": [
    "train = train[[\"NU_INSCRICAO\",\"NU_NOTA_CN\",\"NU_NOTA_CH\",\"NU_NOTA_LC\",\"NU_NOTA_MT\",\"NU_NOTA_REDACAO\",\"TP_PRESENCA_MT\",\"TP_PRESENCA_CH\",\"TP_PRESENCA_LC\",\"TP_PRESENCA_CN\"]]\n",
    "train.head()"
   ]
  },
  {
   "cell_type": "code",
   "execution_count": 73,
   "metadata": {},
   "outputs": [],
   "source": [
    "train.loc[train.TP_PRESENCA_CH == 0,\"NU_NOTA_REDACAO\"]= 0\n",
    "train.loc[train.TP_PRESENCA_CH == 0,\"NU_NOTA_CH\"]= 0\n",
    "train.loc[train.TP_PRESENCA_LC == 0, \"NU_NOTA_LC\"]= 0\n",
    "train.loc[train.TP_PRESENCA_MT == 0,\"NU_NOTA_MT\"]= 0\n",
    "train.loc[train.TP_PRESENCA_CN == 0,\"NU_NOTA_CN\"]= 0"
   ]
  },
  {
   "cell_type": "code",
   "execution_count": 74,
   "metadata": {},
   "outputs": [],
   "source": [
    "from sklearn.impute import SimpleImputer\n",
    "impute = SimpleImputer(missing_values=np.nan, strategy='median')\n",
    "train_fit = impute.fit(train.iloc[:,1:6])\n",
    "train.iloc[:,1:6] = train_fit.transform(train.iloc[:,1:6])"
   ]
  },
  {
   "cell_type": "code",
   "execution_count": 75,
   "metadata": {},
   "outputs": [],
   "source": [
    "from sklearn.linear_model import LinearRegression\n",
    "modelo = LinearRegression()"
   ]
  },
  {
   "cell_type": "code",
   "execution_count": 76,
   "metadata": {},
   "outputs": [],
   "source": [
    "x = train[[\"NU_NOTA_CN\",\"NU_NOTA_CH\",\"NU_NOTA_LC\",\"NU_NOTA_REDACAO\"]]\n",
    "y = train[[\"NU_NOTA_MT\"]]"
   ]
  },
  {
   "cell_type": "code",
   "execution_count": 77,
   "metadata": {},
   "outputs": [
    {
     "data": {
      "text/plain": [
       "LinearRegression()"
      ]
     },
     "execution_count": 77,
     "metadata": {},
     "output_type": "execute_result"
    }
   ],
   "source": [
    "modelo.fit(x,y)"
   ]
  },
  {
   "cell_type": "code",
   "execution_count": 79,
   "metadata": {},
   "outputs": [],
   "source": [
    "score = modelo.score(x,y)"
   ]
  },
  {
   "cell_type": "code",
   "execution_count": 80,
   "metadata": {},
   "outputs": [
    {
     "ename": "ValueError",
     "evalue": "x and y must be the same size",
     "output_type": "error",
     "traceback": [
      "\u001b[1;31m---------------------------------------------------------------------------\u001b[0m",
      "\u001b[1;31mValueError\u001b[0m                                Traceback (most recent call last)",
      "\u001b[1;32m<ipython-input-80-123edb6ea1ff>\u001b[0m in \u001b[0;36m<module>\u001b[1;34m\u001b[0m\n\u001b[0;32m      1\u001b[0m \u001b[1;32mimport\u001b[0m \u001b[0mmatplotlib\u001b[0m\u001b[1;33m.\u001b[0m\u001b[0mpyplot\u001b[0m \u001b[1;32mas\u001b[0m \u001b[0mplt\u001b[0m\u001b[1;33m\u001b[0m\u001b[1;33m\u001b[0m\u001b[0m\n\u001b[1;32m----> 2\u001b[1;33m \u001b[0mplt\u001b[0m\u001b[1;33m.\u001b[0m\u001b[0mscatter\u001b[0m\u001b[1;33m(\u001b[0m\u001b[0mx\u001b[0m\u001b[1;33m,\u001b[0m \u001b[0my\u001b[0m\u001b[1;33m)\u001b[0m\u001b[1;33m\u001b[0m\u001b[1;33m\u001b[0m\u001b[0m\n\u001b[0m",
      "\u001b[1;32m~\\anaconda3\\lib\\site-packages\\matplotlib\\pyplot.py\u001b[0m in \u001b[0;36mscatter\u001b[1;34m(x, y, s, c, marker, cmap, norm, vmin, vmax, alpha, linewidths, verts, edgecolors, plotnonfinite, data, **kwargs)\u001b[0m\n\u001b[0;32m   2846\u001b[0m         \u001b[0mverts\u001b[0m\u001b[1;33m=\u001b[0m\u001b[0mverts\u001b[0m\u001b[1;33m,\u001b[0m \u001b[0medgecolors\u001b[0m\u001b[1;33m=\u001b[0m\u001b[0medgecolors\u001b[0m\u001b[1;33m,\u001b[0m\u001b[1;33m\u001b[0m\u001b[1;33m\u001b[0m\u001b[0m\n\u001b[0;32m   2847\u001b[0m         plotnonfinite=plotnonfinite, **({\"data\": data} if data is not\n\u001b[1;32m-> 2848\u001b[1;33m         None else {}), **kwargs)\n\u001b[0m\u001b[0;32m   2849\u001b[0m     \u001b[0msci\u001b[0m\u001b[1;33m(\u001b[0m\u001b[0m__ret\u001b[0m\u001b[1;33m)\u001b[0m\u001b[1;33m\u001b[0m\u001b[1;33m\u001b[0m\u001b[0m\n\u001b[0;32m   2850\u001b[0m     \u001b[1;32mreturn\u001b[0m \u001b[0m__ret\u001b[0m\u001b[1;33m\u001b[0m\u001b[1;33m\u001b[0m\u001b[0m\n",
      "\u001b[1;32m~\\anaconda3\\lib\\site-packages\\matplotlib\\__init__.py\u001b[0m in \u001b[0;36minner\u001b[1;34m(ax, data, *args, **kwargs)\u001b[0m\n\u001b[0;32m   1597\u001b[0m     \u001b[1;32mdef\u001b[0m \u001b[0minner\u001b[0m\u001b[1;33m(\u001b[0m\u001b[0max\u001b[0m\u001b[1;33m,\u001b[0m \u001b[1;33m*\u001b[0m\u001b[0margs\u001b[0m\u001b[1;33m,\u001b[0m \u001b[0mdata\u001b[0m\u001b[1;33m=\u001b[0m\u001b[1;32mNone\u001b[0m\u001b[1;33m,\u001b[0m \u001b[1;33m**\u001b[0m\u001b[0mkwargs\u001b[0m\u001b[1;33m)\u001b[0m\u001b[1;33m:\u001b[0m\u001b[1;33m\u001b[0m\u001b[1;33m\u001b[0m\u001b[0m\n\u001b[0;32m   1598\u001b[0m         \u001b[1;32mif\u001b[0m \u001b[0mdata\u001b[0m \u001b[1;32mis\u001b[0m \u001b[1;32mNone\u001b[0m\u001b[1;33m:\u001b[0m\u001b[1;33m\u001b[0m\u001b[1;33m\u001b[0m\u001b[0m\n\u001b[1;32m-> 1599\u001b[1;33m             \u001b[1;32mreturn\u001b[0m \u001b[0mfunc\u001b[0m\u001b[1;33m(\u001b[0m\u001b[0max\u001b[0m\u001b[1;33m,\u001b[0m \u001b[1;33m*\u001b[0m\u001b[0mmap\u001b[0m\u001b[1;33m(\u001b[0m\u001b[0msanitize_sequence\u001b[0m\u001b[1;33m,\u001b[0m \u001b[0margs\u001b[0m\u001b[1;33m)\u001b[0m\u001b[1;33m,\u001b[0m \u001b[1;33m**\u001b[0m\u001b[0mkwargs\u001b[0m\u001b[1;33m)\u001b[0m\u001b[1;33m\u001b[0m\u001b[1;33m\u001b[0m\u001b[0m\n\u001b[0m\u001b[0;32m   1600\u001b[0m \u001b[1;33m\u001b[0m\u001b[0m\n\u001b[0;32m   1601\u001b[0m         \u001b[0mbound\u001b[0m \u001b[1;33m=\u001b[0m \u001b[0mnew_sig\u001b[0m\u001b[1;33m.\u001b[0m\u001b[0mbind\u001b[0m\u001b[1;33m(\u001b[0m\u001b[0max\u001b[0m\u001b[1;33m,\u001b[0m \u001b[1;33m*\u001b[0m\u001b[0margs\u001b[0m\u001b[1;33m,\u001b[0m \u001b[1;33m**\u001b[0m\u001b[0mkwargs\u001b[0m\u001b[1;33m)\u001b[0m\u001b[1;33m\u001b[0m\u001b[1;33m\u001b[0m\u001b[0m\n",
      "\u001b[1;32m~\\anaconda3\\lib\\site-packages\\matplotlib\\axes\\_axes.py\u001b[0m in \u001b[0;36mscatter\u001b[1;34m(self, x, y, s, c, marker, cmap, norm, vmin, vmax, alpha, linewidths, verts, edgecolors, plotnonfinite, **kwargs)\u001b[0m\n\u001b[0;32m   4441\u001b[0m         \u001b[0my\u001b[0m \u001b[1;33m=\u001b[0m \u001b[0mnp\u001b[0m\u001b[1;33m.\u001b[0m\u001b[0mma\u001b[0m\u001b[1;33m.\u001b[0m\u001b[0mravel\u001b[0m\u001b[1;33m(\u001b[0m\u001b[0my\u001b[0m\u001b[1;33m)\u001b[0m\u001b[1;33m\u001b[0m\u001b[1;33m\u001b[0m\u001b[0m\n\u001b[0;32m   4442\u001b[0m         \u001b[1;32mif\u001b[0m \u001b[0mx\u001b[0m\u001b[1;33m.\u001b[0m\u001b[0msize\u001b[0m \u001b[1;33m!=\u001b[0m \u001b[0my\u001b[0m\u001b[1;33m.\u001b[0m\u001b[0msize\u001b[0m\u001b[1;33m:\u001b[0m\u001b[1;33m\u001b[0m\u001b[1;33m\u001b[0m\u001b[0m\n\u001b[1;32m-> 4443\u001b[1;33m             \u001b[1;32mraise\u001b[0m \u001b[0mValueError\u001b[0m\u001b[1;33m(\u001b[0m\u001b[1;34m\"x and y must be the same size\"\u001b[0m\u001b[1;33m)\u001b[0m\u001b[1;33m\u001b[0m\u001b[1;33m\u001b[0m\u001b[0m\n\u001b[0m\u001b[0;32m   4444\u001b[0m \u001b[1;33m\u001b[0m\u001b[0m\n\u001b[0;32m   4445\u001b[0m         \u001b[1;32mif\u001b[0m \u001b[0ms\u001b[0m \u001b[1;32mis\u001b[0m \u001b[1;32mNone\u001b[0m\u001b[1;33m:\u001b[0m\u001b[1;33m\u001b[0m\u001b[1;33m\u001b[0m\u001b[0m\n",
      "\u001b[1;31mValueError\u001b[0m: x and y must be the same size"
     ]
    },
    {
     "data": {
      "image/png": "[encoded data removed]",
      "text/plain": [
       "<Figure size 432x288 with 1 Axes>"
      ]
     },
     "metadata": {
      "needs_background": "light"
     },
     "output_type": "display_data"
    }
   ],
   "source": [
    "import matplotlib.pyplot as plt\n",
    "plt.scatter(x, y)"
   ]
  },
  {
   "cell_type": "code",
   "execution_count": 82,
   "metadata": {},
   "outputs": [
    {
     "data": {
      "text/plain": [
       "[<matplotlib.lines.Line2D at 0x1eb0094b248>,\n",
       " <matplotlib.lines.Line2D at 0x1eb0096c3c8>,\n",
       " <matplotlib.lines.Line2D at 0x1eb0096c588>,\n",
       " <matplotlib.lines.Line2D at 0x1eb0096c748>]"
      ]
     },
     "execution_count": 82,
     "metadata": {},
     "output_type": "execute_result"
    },
    {
     "data": {
      "image/png": "[encoded data removed]",
      "text/plain": [
       "<Figure size 432x288 with 1 Axes>"
      ]
     },
     "metadata": {
      "needs_background": "light"
     },
     "output_type": "display_data"
    }
   ],
   "source": [
    "plt.plot(x, modelo.predict(x), color = 'red')"
   ]
  },
  {
   "cell_type": "code",
   "execution_count": 83,
   "metadata": {},
   "outputs": [
    {
     "name": "stdout",
     "output_type": "stream",
     "text": [
      "[[ 0.35595234 -0.11229212  0.72650694  0.00225628]]\n"
     ]
    }
   ],
   "source": [
    "print(modelo.coef_)"
   ]
  },
  {
   "cell_type": "code",
   "execution_count": 106,
   "metadata": {},
   "outputs": [],
   "source": [
    "test = test[[\"NU_INSCRICAO\",\"NU_NOTA_CN\",\"NU_NOTA_CH\",\"NU_NOTA_LC\",\"NU_NOTA_REDACAO\",\"TP_PRESENCA_CH\",\"TP_PRESENCA_LC\",\"TP_PRESENCA_CN\"]]"
   ]
  },
  {
   "cell_type": "code",
   "execution_count": 107,
   "metadata": {},
   "outputs": [],
   "source": [
    "test.loc[test.TP_PRESENCA_CH == 0,\"NU_NOTA_REDACAO\"]= 0\n",
    "test.loc[test.TP_PRESENCA_CH == 0,\"NU_NOTA_CH\"]= 0\n",
    "test.loc[test.TP_PRESENCA_LC == 0, \"NU_NOTA_LC\"]= 0\n",
    "test.loc[test.TP_PRESENCA_CN == 0,\"NU_NOTA_CN\"]= 0"
   ]
  },
  {
   "cell_type": "code",
   "execution_count": 108,
   "metadata": {},
   "outputs": [],
   "source": [
    "from sklearn.impute import SimpleImputer\n",
    "impute = SimpleImputer(missing_values=np.nan, strategy='median')\n",
    "test_fit = impute.fit(test.iloc[:,1:5])\n",
    "test.iloc[:,1:5] = test_fit.transform(test.iloc[:,1:5])"
   ]
  },
  {
   "cell_type": "code",
   "execution_count": 109,
   "metadata": {},
   "outputs": [
    {
     "data": {
      "text/html": [
       "<div>\n",
       "<style scoped>\n",
       "    .dataframe tbody tr th:only-of-type {\n",
       "        vertical-align: middle;\n",
       "    }\n",
       "\n",
       "    .dataframe tbody tr th {\n",
       "        vertical-align: top;\n",
       "    }\n",
       "\n",
       "    .dataframe thead th {\n",
       "        text-align: right;\n",
       "    }\n",
       "</style>\n",
       "<table border=\"1\" class=\"dataframe\">\n",
       "  <thead>\n",
       "    <tr style=\"text-align: right;\">\n",
       "      <th></th>\n",
       "      <th>NU_INSCRICAO</th>\n",
       "      <th>NU_NOTA_CN</th>\n",
       "      <th>NU_NOTA_CH</th>\n",
       "      <th>NU_NOTA_LC</th>\n",
       "      <th>NU_NOTA_REDACAO</th>\n",
       "      <th>TP_PRESENCA_CH</th>\n",
       "      <th>TP_PRESENCA_LC</th>\n",
       "      <th>TP_PRESENCA_CN</th>\n",
       "    </tr>\n",
       "  </thead>\n",
       "  <tbody>\n",
       "    <tr>\n",
       "      <th>0</th>\n",
       "      <td>73ff9fcc02f0a99919906c942c2e1a1042cdcf98</td>\n",
       "      <td>464.8</td>\n",
       "      <td>443.5</td>\n",
       "      <td>431.8</td>\n",
       "      <td>420.0</td>\n",
       "      <td>1</td>\n",
       "      <td>1</td>\n",
       "      <td>1</td>\n",
       "    </tr>\n",
       "    <tr>\n",
       "      <th>1</th>\n",
       "      <td>71a95f9f1b91a82c65ad94abbdf9f54e6066f968</td>\n",
       "      <td>391.1</td>\n",
       "      <td>491.1</td>\n",
       "      <td>548.0</td>\n",
       "      <td>580.0</td>\n",
       "      <td>1</td>\n",
       "      <td>1</td>\n",
       "      <td>1</td>\n",
       "    </tr>\n",
       "    <tr>\n",
       "      <th>2</th>\n",
       "      <td>b38a03232f43b11c9d0788abaf060f7366053b6d</td>\n",
       "      <td>595.9</td>\n",
       "      <td>622.7</td>\n",
       "      <td>613.6</td>\n",
       "      <td>320.0</td>\n",
       "      <td>1</td>\n",
       "      <td>1</td>\n",
       "      <td>1</td>\n",
       "    </tr>\n",
       "    <tr>\n",
       "      <th>3</th>\n",
       "      <td>70b682d9a3636be23f6120fa9d6b164eb3c6002d</td>\n",
       "      <td>0.0</td>\n",
       "      <td>0.0</td>\n",
       "      <td>0.0</td>\n",
       "      <td>0.0</td>\n",
       "      <td>0</td>\n",
       "      <td>0</td>\n",
       "      <td>0</td>\n",
       "    </tr>\n",
       "    <tr>\n",
       "      <th>4</th>\n",
       "      <td>715494628a50142ce8cb17191cfe6d0f3cae0934</td>\n",
       "      <td>592.9</td>\n",
       "      <td>492.6</td>\n",
       "      <td>571.4</td>\n",
       "      <td>320.0</td>\n",
       "      <td>1</td>\n",
       "      <td>1</td>\n",
       "      <td>1</td>\n",
       "    </tr>\n",
       "  </tbody>\n",
       "</table>\n",
       "</div>"
      ],
      "text/plain": [
       "                               NU_INSCRICAO  NU_NOTA_CN  NU_NOTA_CH  \\\n",
       "0  73ff9fcc02f0a99919906c942c2e1a1042cdcf98       464.8       443.5   \n",
       "1  71a95f9f1b91a82c65ad94abbdf9f54e6066f968       391.1       491.1   \n",
       "2  b38a03232f43b11c9d0788abaf060f7366053b6d       595.9       622.7   \n",
       "3  70b682d9a3636be23f6120fa9d6b164eb3c6002d         0.0         0.0   \n",
       "4  715494628a50142ce8cb17191cfe6d0f3cae0934       592.9       492.6   \n",
       "\n",
       "   NU_NOTA_LC  NU_NOTA_REDACAO  TP_PRESENCA_CH  TP_PRESENCA_LC  TP_PRESENCA_CN  \n",
       "0       431.8            420.0               1               1               1  \n",
       "1       548.0            580.0               1               1               1  \n",
       "2       613.6            320.0               1               1               1  \n",
       "3         0.0              0.0               0               0               0  \n",
       "4       571.4            320.0               1               1               1  "
      ]
     },
     "execution_count": 109,
     "metadata": {},
     "output_type": "execute_result"
    }
   ],
   "source": [
    "test.head()"
   ]
  },
  {
   "cell_type": "code",
   "execution_count": 114,
   "metadata": {},
   "outputs": [],
   "source": [
    "x_test = test[[\"NU_NOTA_CN\",\"NU_NOTA_CH\",\"NU_NOTA_LC\",\"NU_NOTA_REDACAO\"]]\n"
   ]
  },
  {
   "cell_type": "code",
   "execution_count": 116,
   "metadata": {},
   "outputs": [],
   "source": [
    "y_test = modelo.predict(x_test)"
   ]
  },
  {
   "cell_type": "code",
   "execution_count": 130,
   "metadata": {},
   "outputs": [],
   "source": [
    "new = pd.DataFrame(np.round(y_test,1),columns = [\"mat\"])"
   ]
  },
  {
   "cell_type": "code",
   "execution_count": 131,
   "metadata": {},
   "outputs": [
    {
     "data": {
      "text/html": [
       "<div>\n",
       "<style scoped>\n",
       "    .dataframe tbody tr th:only-of-type {\n",
       "        vertical-align: middle;\n",
       "    }\n",
       "\n",
       "    .dataframe tbody tr th {\n",
       "        vertical-align: top;\n",
       "    }\n",
       "\n",
       "    .dataframe thead th {\n",
       "        text-align: right;\n",
       "    }\n",
       "</style>\n",
       "<table border=\"1\" class=\"dataframe\">\n",
       "  <thead>\n",
       "    <tr style=\"text-align: right;\">\n",
       "      <th></th>\n",
       "      <th>mat</th>\n",
       "    </tr>\n",
       "  </thead>\n",
       "  <tbody>\n",
       "    <tr>\n",
       "      <th>0</th>\n",
       "      <td>426.4</td>\n",
       "    </tr>\n",
       "    <tr>\n",
       "      <th>1</th>\n",
       "      <td>479.6</td>\n",
       "    </tr>\n",
       "    <tr>\n",
       "      <th>2</th>\n",
       "      <td>584.8</td>\n",
       "    </tr>\n",
       "    <tr>\n",
       "      <th>3</th>\n",
       "      <td>-3.9</td>\n",
       "    </tr>\n",
       "    <tr>\n",
       "      <th>4</th>\n",
       "      <td>567.7</td>\n",
       "    </tr>\n",
       "  </tbody>\n",
       "</table>\n",
       "</div>"
      ],
      "text/plain": [
       "     mat\n",
       "0  426.4\n",
       "1  479.6\n",
       "2  584.8\n",
       "3   -3.9\n",
       "4  567.7"
      ]
     },
     "execution_count": 131,
     "metadata": {},
     "output_type": "execute_result"
    }
   ],
   "source": [
    "new.head()"
   ]
  },
  {
   "cell_type": "code",
   "execution_count": 133,
   "metadata": {},
   "outputs": [],
   "source": [
    "new.to_csv('out.csv',index=False)"
   ]
  },
  {
   "cell_type": "code",
   "execution_count": 132,
   "metadata": {},
   "outputs": [],
   "source": [
    "new.loc[new.mat < 0,\"mat\"]= 0"
   ]
  },
  {
   "cell_type": "code",
   "execution_count": null,
   "metadata": {},
   "outputs": [],
   "source": []
  }
 ],
 "metadata": {
  "kernelspec": {
   "display_name": "Python 3",
   "language": "python",
   "name": "python3"
  },
  "language_info": {
   "codemirror_mode": {
    "name": "ipython",
    "version": 3
   },
   "file_extension": ".py",
   "mimetype": "text/x-python",
   "name": "python",
   "nbconvert_exporter": "python",
   "pygments_lexer": "ipython3",
   "version": "3.7.6"
  }
 },
 "nbformat": 4,
 "nbformat_minor": 4
}
